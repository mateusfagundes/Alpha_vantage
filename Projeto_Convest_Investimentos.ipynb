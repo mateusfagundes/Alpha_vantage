{
  "nbformat": 4,
  "nbformat_minor": 0,
  "metadata": {
    "colab": {
      "name": "Projeto Convest Investimentos.ipynb",
      "provenance": [],
      "collapsed_sections": [],
      "include_colab_link": true
    },
    "kernelspec": {
      "name": "python3",
      "display_name": "Python 3"
    }
  },
  "cells": [
    {
      "cell_type": "markdown",
      "metadata": {
        "id": "view-in-github",
        "colab_type": "text"
      },
      "source": [
        "<a href=\"https://colab.research.google.com/github/mateusfagundes/Colaboratory/blob/main/Projeto_Convest_Investimentos.ipynb\" target=\"_parent\"><img src=\"https://colab.research.google.com/assets/colab-badge.svg\" alt=\"Open In Colab\"/></a>"
      ]
    },
    {
      "cell_type": "markdown",
      "metadata": {
        "id": "XXN3-mNhxNOP"
      },
      "source": [
        "# Bibliotecas"
      ]
    },
    {
      "cell_type": "code",
      "metadata": {
        "id": "OHHEzZzwRRhx"
      },
      "source": [
        "import numpy as np\n",
        "import pandas as pd\n",
        "import matplotlib.pyplot as plt\n",
        "import seaborn as sns; sns.set()\n",
        "\n",
        "import matplotlib\n",
        "matplotlib.rcParams['figure.figsize'] = (16, 8)"
      ],
      "execution_count": 5,
      "outputs": []
    },
    {
      "cell_type": "code",
      "metadata": {
        "id": "F336SM7MPniI",
        "colab": {
          "base_uri": "https://localhost:8080/"
        },
        "outputId": "b9602f7b-7937-4612-c72d-b1c90407de5f"
      },
      "source": [
        "!pip install alpha_vantage"
      ],
      "execution_count": 6,
      "outputs": [
        {
          "output_type": "stream",
          "text": [
            "Collecting alpha_vantage\n",
            "  Downloading https://files.pythonhosted.org/packages/ba/b4/d95f9e0eccea6732bab5a079772d453a4f0b68a9f63740d9cf320f92beaa/alpha_vantage-2.3.1-py3-none-any.whl\n",
            "Collecting aiohttp\n",
            "\u001b[?25l  Downloading https://files.pythonhosted.org/packages/88/c0/5890b4c8b04a79b7360e8fe4490feb0bb3ab179743f199f0e6220cebd568/aiohttp-3.7.4.post0-cp37-cp37m-manylinux2014_x86_64.whl (1.3MB)\n",
            "\u001b[K     |████████████████████████████████| 1.3MB 7.5MB/s \n",
            "\u001b[?25hRequirement already satisfied: requests in /usr/local/lib/python3.7/dist-packages (from alpha_vantage) (2.23.0)\n",
            "Collecting multidict<7.0,>=4.5\n",
            "\u001b[?25l  Downloading https://files.pythonhosted.org/packages/7c/a6/4123b8165acbe773d1a8dc8e3f0d1edea16d29f7de018eda769abb56bd30/multidict-5.1.0-cp37-cp37m-manylinux2014_x86_64.whl (142kB)\n",
            "\u001b[K     |████████████████████████████████| 143kB 18.5MB/s \n",
            "\u001b[?25hCollecting async-timeout<4.0,>=3.0\n",
            "  Downloading https://files.pythonhosted.org/packages/e1/1e/5a4441be21b0726c4464f3f23c8b19628372f606755a9d2e46c187e65ec4/async_timeout-3.0.1-py3-none-any.whl\n",
            "Requirement already satisfied: chardet<5.0,>=2.0 in /usr/local/lib/python3.7/dist-packages (from aiohttp->alpha_vantage) (3.0.4)\n",
            "Collecting yarl<2.0,>=1.0\n",
            "\u001b[?25l  Downloading https://files.pythonhosted.org/packages/f1/62/046834c5fc998c88ab2ef722f5d42122230a632212c8afa76418324f53ff/yarl-1.6.3-cp37-cp37m-manylinux2014_x86_64.whl (294kB)\n",
            "\u001b[K     |████████████████████████████████| 296kB 19.3MB/s \n",
            "\u001b[?25hRequirement already satisfied: typing-extensions>=3.6.5 in /usr/local/lib/python3.7/dist-packages (from aiohttp->alpha_vantage) (3.7.4.3)\n",
            "Requirement already satisfied: attrs>=17.3.0 in /usr/local/lib/python3.7/dist-packages (from aiohttp->alpha_vantage) (21.2.0)\n",
            "Requirement already satisfied: idna<3,>=2.5 in /usr/local/lib/python3.7/dist-packages (from requests->alpha_vantage) (2.10)\n",
            "Requirement already satisfied: certifi>=2017.4.17 in /usr/local/lib/python3.7/dist-packages (from requests->alpha_vantage) (2020.12.5)\n",
            "Requirement already satisfied: urllib3!=1.25.0,!=1.25.1,<1.26,>=1.21.1 in /usr/local/lib/python3.7/dist-packages (from requests->alpha_vantage) (1.24.3)\n",
            "Installing collected packages: multidict, async-timeout, yarl, aiohttp, alpha-vantage\n",
            "Successfully installed aiohttp-3.7.4.post0 alpha-vantage-2.3.1 async-timeout-3.0.1 multidict-5.1.0 yarl-1.6.3\n"
          ],
          "name": "stdout"
        }
      ]
    },
    {
      "cell_type": "markdown",
      "metadata": {
        "id": "CzBp81UOI3ZA"
      },
      "source": [
        "Banco de dados SQLite"
      ]
    },
    {
      "cell_type": "code",
      "metadata": {
        "id": "W7SfCJM887cu"
      },
      "source": [
        "import sqlite3"
      ],
      "execution_count": 39,
      "outputs": []
    },
    {
      "cell_type": "code",
      "metadata": {
        "id": "QVvUoDE29HnK"
      },
      "source": [
        "banco = sqlite3.connect('banco_convest.db')\n",
        "cursor = banco.cursor()\n",
        "cursor.execute(\"CREATE TABLE b3sa (preco integer, data date)\")\n",
        "cursor.execute(\"CREATE TABLE petro (preco integer, data date)\")\n",
        "cursor.execute(\"INSERT INTO b3sa VALUES('\"+dadosb+\"','\"+meta_dados_b+\"')\n",
        "cursor.execute(\"INSERT INTO petro VALUES('\"+dadosp+\"','\"+meta_dados_p+\"')\n",
        "\n",
        "banco.commit()"
      ],
      "execution_count": null,
      "outputs": []
    },
    {
      "cell_type": "code",
      "metadata": {
        "colab": {
          "base_uri": "https://localhost:8080/"
        },
        "id": "RbBE8hgM79Ib",
        "outputId": "639af5a5-bbde-471c-9289-957c7b5fad5d"
      },
      "source": [
        "!pip install db-sqlite3"
      ],
      "execution_count": 35,
      "outputs": [
        {
          "output_type": "stream",
          "text": [
            "Collecting db-sqlite3\n",
            "  Downloading https://files.pythonhosted.org/packages/ff/00/e1f3d7bf1e0bff7c0574c0d5535c041e139d4ce43db196147e4c62f52ed5/db-sqlite3-0.0.1.tar.gz\n",
            "Collecting db\n",
            "  Downloading https://files.pythonhosted.org/packages/a9/22/f65d64c83e63790b3273c6adb3bff338ad594f46d84b41bd1f94593b40a6/db-0.1.1.tar.gz\n",
            "Collecting antiorm\n",
            "\u001b[?25l  Downloading https://files.pythonhosted.org/packages/0b/f8/71baa4824d9666c1be51d117119579a97f461ddbded48b2e01a6ad0554b5/antiorm-1.2.1.tar.gz (171kB)\n",
            "\u001b[K     |████████████████████████████████| 174kB 5.4MB/s \n",
            "\u001b[?25hBuilding wheels for collected packages: db-sqlite3, db, antiorm\n",
            "  Building wheel for db-sqlite3 (setup.py) ... \u001b[?25l\u001b[?25hdone\n",
            "  Created wheel for db-sqlite3: filename=db_sqlite3-0.0.1-cp37-none-any.whl size=1796 sha256=c6f2aded8b907696ad9670e338bc22c9452758316b6bce97305620f060cb3c32\n",
            "  Stored in directory: /root/.cache/pip/wheels/e0/f8/cb/08e3a3a63bdea9ac3a0cccd140636b6cf94e3fb7df1070b12e\n",
            "  Building wheel for db (setup.py) ... \u001b[?25l\u001b[?25hdone\n",
            "  Created wheel for db: filename=db-0.1.1-cp37-none-any.whl size=3894 sha256=08ef9612a4804d38f1fe07e0b31273b126ab61f7ef97d835d7700bbd170d29cd\n",
            "  Stored in directory: /root/.cache/pip/wheels/30/eb/ba/237fa002d1d1b2e73cedcefd26a9db37c4b72c7e5156ea0501\n",
            "  Building wheel for antiorm (setup.py) ... \u001b[?25l\u001b[?25hdone\n",
            "  Created wheel for antiorm: filename=antiorm-1.2.1-cp37-none-any.whl size=31668 sha256=3a08471a74b395bb10b2511146e4cc3f053c09eb70b7dd65fa0d68d93e5e1c1a\n",
            "  Stored in directory: /root/.cache/pip/wheels/b0/91/4d/f8fe808786ff1cda9e7e99e1b1bbda9196ab26786017965313\n",
            "Successfully built db-sqlite3 db antiorm\n",
            "Installing collected packages: antiorm, db, db-sqlite3\n",
            "Successfully installed antiorm-1.2.1 db-0.1.1 db-sqlite3-0.0.1\n"
          ],
          "name": "stdout"
        }
      ]
    },
    {
      "cell_type": "code",
      "metadata": {
        "id": "B4w76OYeQLCP"
      },
      "source": [
        "from alpha_vantage.timeseries import TimeSeries"
      ],
      "execution_count": 7,
      "outputs": []
    },
    {
      "cell_type": "markdown",
      "metadata": {
        "id": "uTu7q3p8QOrH"
      },
      "source": [
        "# Chave de Acesso API Alpha Vantage"
      ]
    },
    {
      "cell_type": "code",
      "metadata": {
        "id": "CidOSQf2QQ7_"
      },
      "source": [
        "ALPHAVANTAGE_API_KEY ='Z2SR8H59Y1EYHIWV'"
      ],
      "execution_count": 3,
      "outputs": []
    },
    {
      "cell_type": "markdown",
      "metadata": {
        "id": "jauhh7l1QwMx"
      },
      "source": [
        "#API\n",
        "\n",
        "\n",
        "\n"
      ]
    },
    {
      "cell_type": "code",
      "metadata": {
        "id": "aG8KOldPT7Jc"
      },
      "source": [
        "ts = TimeSeries(key=ALPHAVANTAGE_API_KEY, output_format='pandas')"
      ],
      "execution_count": 8,
      "outputs": []
    },
    {
      "cell_type": "code",
      "metadata": {
        "id": "jdtBezS8JzT6",
        "colab": {
          "base_uri": "https://localhost:8080/"
        },
        "outputId": "7b67adb5-056d-4519-f950-7b345972f4fa"
      },
      "source": [
        "ts.get_symbol_search('B3SA3.SAO')\n",
        "ts.get_symbol_search('PETR4.SAO')"
      ],
      "execution_count": 14,
      "outputs": [
        {
          "output_type": "execute_result",
          "data": {
            "text/plain": [
              "(            1. symbol  ... 9. matchScore\n",
              " date                   ...              \n",
              " 1970-01-01  PETR4.SAO  ...        1.0000\n",
              " \n",
              " [1 rows x 9 columns], None)"
            ]
          },
          "metadata": {
            "tags": []
          },
          "execution_count": 14
        }
      ]
    },
    {
      "cell_type": "code",
      "metadata": {
        "id": "m7CVaoEXJ4_k"
      },
      "source": [
        "dadosb, meta_dados_b = ts.get_daily(symbol='B3SA3.SAO', outputsize='full')\n",
        "dadosp, meta_dados_p = ts.get_daily(symbol='PETR4.SAO', outputsize='full')"
      ],
      "execution_count": 27,
      "outputs": []
    },
    {
      "cell_type": "markdown",
      "metadata": {
        "id": "NJcSIuWoKHXj"
      },
      "source": [
        "dadosb"
      ]
    },
    {
      "cell_type": "code",
      "metadata": {
        "colab": {
          "base_uri": "https://localhost:8080/",
          "height": 450
        },
        "id": "bfbEMQub2B4f",
        "outputId": "ce3102b7-7752-4879-ba77-6896d80b3f30"
      },
      "source": [
        "dadosb"
      ],
      "execution_count": 30,
      "outputs": [
        {
          "output_type": "execute_result",
          "data": {
            "text/html": [
              "<div>\n",
              "<style scoped>\n",
              "    .dataframe tbody tr th:only-of-type {\n",
              "        vertical-align: middle;\n",
              "    }\n",
              "\n",
              "    .dataframe tbody tr th {\n",
              "        vertical-align: top;\n",
              "    }\n",
              "\n",
              "    .dataframe thead th {\n",
              "        text-align: right;\n",
              "    }\n",
              "</style>\n",
              "<table border=\"1\" class=\"dataframe\">\n",
              "  <thead>\n",
              "    <tr style=\"text-align: right;\">\n",
              "      <th></th>\n",
              "      <th>1. open</th>\n",
              "      <th>2. high</th>\n",
              "      <th>3. low</th>\n",
              "      <th>4. close</th>\n",
              "      <th>5. volume</th>\n",
              "    </tr>\n",
              "    <tr>\n",
              "      <th>date</th>\n",
              "      <th></th>\n",
              "      <th></th>\n",
              "      <th></th>\n",
              "      <th></th>\n",
              "      <th></th>\n",
              "    </tr>\n",
              "  </thead>\n",
              "  <tbody>\n",
              "    <tr>\n",
              "      <th>2021-05-14</th>\n",
              "      <td>52.69</td>\n",
              "      <td>54.06</td>\n",
              "      <td>52.21</td>\n",
              "      <td>53.55</td>\n",
              "      <td>13507800.0</td>\n",
              "    </tr>\n",
              "    <tr>\n",
              "      <th>2021-05-13</th>\n",
              "      <td>51.86</td>\n",
              "      <td>52.70</td>\n",
              "      <td>51.60</td>\n",
              "      <td>51.75</td>\n",
              "      <td>14803700.0</td>\n",
              "    </tr>\n",
              "    <tr>\n",
              "      <th>2021-05-12</th>\n",
              "      <td>52.01</td>\n",
              "      <td>52.52</td>\n",
              "      <td>51.32</td>\n",
              "      <td>51.50</td>\n",
              "      <td>11649100.0</td>\n",
              "    </tr>\n",
              "    <tr>\n",
              "      <th>2021-05-11</th>\n",
              "      <td>52.31</td>\n",
              "      <td>52.92</td>\n",
              "      <td>52.16</td>\n",
              "      <td>52.85</td>\n",
              "      <td>14984600.0</td>\n",
              "    </tr>\n",
              "    <tr>\n",
              "      <th>2021-05-10</th>\n",
              "      <td>52.82</td>\n",
              "      <td>53.58</td>\n",
              "      <td>52.45</td>\n",
              "      <td>53.30</td>\n",
              "      <td>10901300.0</td>\n",
              "    </tr>\n",
              "    <tr>\n",
              "      <th>...</th>\n",
              "      <td>...</td>\n",
              "      <td>...</td>\n",
              "      <td>...</td>\n",
              "      <td>...</td>\n",
              "      <td>...</td>\n",
              "    </tr>\n",
              "    <tr>\n",
              "      <th>2008-08-26</th>\n",
              "      <td>10.84</td>\n",
              "      <td>11.31</td>\n",
              "      <td>10.80</td>\n",
              "      <td>11.05</td>\n",
              "      <td>6056462.0</td>\n",
              "    </tr>\n",
              "    <tr>\n",
              "      <th>2008-08-25</th>\n",
              "      <td>11.42</td>\n",
              "      <td>11.59</td>\n",
              "      <td>11.20</td>\n",
              "      <td>11.21</td>\n",
              "      <td>3643959.0</td>\n",
              "    </tr>\n",
              "    <tr>\n",
              "      <th>2008-08-22</th>\n",
              "      <td>11.40</td>\n",
              "      <td>11.62</td>\n",
              "      <td>11.39</td>\n",
              "      <td>11.48</td>\n",
              "      <td>7378482.0</td>\n",
              "    </tr>\n",
              "    <tr>\n",
              "      <th>2008-08-21</th>\n",
              "      <td>11.85</td>\n",
              "      <td>11.89</td>\n",
              "      <td>11.32</td>\n",
              "      <td>11.47</td>\n",
              "      <td>6886297.0</td>\n",
              "    </tr>\n",
              "    <tr>\n",
              "      <th>2008-08-20</th>\n",
              "      <td>11.50</td>\n",
              "      <td>12.24</td>\n",
              "      <td>11.31</td>\n",
              "      <td>11.84</td>\n",
              "      <td>10780913.0</td>\n",
              "    </tr>\n",
              "  </tbody>\n",
              "</table>\n",
              "<p>3142 rows × 5 columns</p>\n",
              "</div>"
            ],
            "text/plain": [
              "            1. open  2. high  3. low  4. close   5. volume\n",
              "date                                                      \n",
              "2021-05-14    52.69    54.06   52.21     53.55  13507800.0\n",
              "2021-05-13    51.86    52.70   51.60     51.75  14803700.0\n",
              "2021-05-12    52.01    52.52   51.32     51.50  11649100.0\n",
              "2021-05-11    52.31    52.92   52.16     52.85  14984600.0\n",
              "2021-05-10    52.82    53.58   52.45     53.30  10901300.0\n",
              "...             ...      ...     ...       ...         ...\n",
              "2008-08-26    10.84    11.31   10.80     11.05   6056462.0\n",
              "2008-08-25    11.42    11.59   11.20     11.21   3643959.0\n",
              "2008-08-22    11.40    11.62   11.39     11.48   7378482.0\n",
              "2008-08-21    11.85    11.89   11.32     11.47   6886297.0\n",
              "2008-08-20    11.50    12.24   11.31     11.84  10780913.0\n",
              "\n",
              "[3142 rows x 5 columns]"
            ]
          },
          "metadata": {
            "tags": []
          },
          "execution_count": 30
        }
      ]
    },
    {
      "cell_type": "code",
      "metadata": {
        "colab": {
          "base_uri": "https://localhost:8080/",
          "height": 450
        },
        "id": "cf4lgXqy2Flw",
        "outputId": "92f81f66-5530-4019-f447-5f2e28abd1e8"
      },
      "source": [
        "dadosp"
      ],
      "execution_count": 31,
      "outputs": [
        {
          "output_type": "execute_result",
          "data": {
            "text/html": [
              "<div>\n",
              "<style scoped>\n",
              "    .dataframe tbody tr th:only-of-type {\n",
              "        vertical-align: middle;\n",
              "    }\n",
              "\n",
              "    .dataframe tbody tr th {\n",
              "        vertical-align: top;\n",
              "    }\n",
              "\n",
              "    .dataframe thead th {\n",
              "        text-align: right;\n",
              "    }\n",
              "</style>\n",
              "<table border=\"1\" class=\"dataframe\">\n",
              "  <thead>\n",
              "    <tr style=\"text-align: right;\">\n",
              "      <th></th>\n",
              "      <th>1. open</th>\n",
              "      <th>2. high</th>\n",
              "      <th>3. low</th>\n",
              "      <th>4. close</th>\n",
              "      <th>5. volume</th>\n",
              "    </tr>\n",
              "    <tr>\n",
              "      <th>date</th>\n",
              "      <th></th>\n",
              "      <th></th>\n",
              "      <th></th>\n",
              "      <th></th>\n",
              "      <th></th>\n",
              "    </tr>\n",
              "  </thead>\n",
              "  <tbody>\n",
              "    <tr>\n",
              "      <th>2021-05-14</th>\n",
              "      <td>25.80</td>\n",
              "      <td>26.38</td>\n",
              "      <td>25.55</td>\n",
              "      <td>26.28</td>\n",
              "      <td>195808600.0</td>\n",
              "    </tr>\n",
              "    <tr>\n",
              "      <th>2021-05-13</th>\n",
              "      <td>24.76</td>\n",
              "      <td>25.10</td>\n",
              "      <td>24.43</td>\n",
              "      <td>24.99</td>\n",
              "      <td>76723900.0</td>\n",
              "    </tr>\n",
              "    <tr>\n",
              "      <th>2021-05-12</th>\n",
              "      <td>24.95</td>\n",
              "      <td>25.53</td>\n",
              "      <td>24.69</td>\n",
              "      <td>24.78</td>\n",
              "      <td>89346200.0</td>\n",
              "    </tr>\n",
              "    <tr>\n",
              "      <th>2021-05-11</th>\n",
              "      <td>24.44</td>\n",
              "      <td>25.17</td>\n",
              "      <td>24.32</td>\n",
              "      <td>25.15</td>\n",
              "      <td>73355200.0</td>\n",
              "    </tr>\n",
              "    <tr>\n",
              "      <th>2021-05-10</th>\n",
              "      <td>24.80</td>\n",
              "      <td>24.98</td>\n",
              "      <td>24.58</td>\n",
              "      <td>24.70</td>\n",
              "      <td>73594200.0</td>\n",
              "    </tr>\n",
              "    <tr>\n",
              "      <th>...</th>\n",
              "      <td>...</td>\n",
              "      <td>...</td>\n",
              "      <td>...</td>\n",
              "      <td>...</td>\n",
              "      <td>...</td>\n",
              "    </tr>\n",
              "    <tr>\n",
              "      <th>2005-01-07</th>\n",
              "      <td>93.19</td>\n",
              "      <td>94.30</td>\n",
              "      <td>92.51</td>\n",
              "      <td>93.41</td>\n",
              "      <td>3287780.0</td>\n",
              "    </tr>\n",
              "    <tr>\n",
              "      <th>2005-01-06</th>\n",
              "      <td>93.22</td>\n",
              "      <td>93.50</td>\n",
              "      <td>91.90</td>\n",
              "      <td>93.00</td>\n",
              "      <td>3562220.0</td>\n",
              "    </tr>\n",
              "    <tr>\n",
              "      <th>2005-01-05</th>\n",
              "      <td>93.30</td>\n",
              "      <td>94.18</td>\n",
              "      <td>91.80</td>\n",
              "      <td>92.72</td>\n",
              "      <td>3891044.0</td>\n",
              "    </tr>\n",
              "    <tr>\n",
              "      <th>2005-01-04</th>\n",
              "      <td>94.99</td>\n",
              "      <td>95.60</td>\n",
              "      <td>93.00</td>\n",
              "      <td>93.08</td>\n",
              "      <td>4741740.0</td>\n",
              "    </tr>\n",
              "    <tr>\n",
              "      <th>2005-01-03</th>\n",
              "      <td>97.25</td>\n",
              "      <td>97.90</td>\n",
              "      <td>94.19</td>\n",
              "      <td>94.20</td>\n",
              "      <td>3781800.0</td>\n",
              "    </tr>\n",
              "  </tbody>\n",
              "</table>\n",
              "<p>4043 rows × 5 columns</p>\n",
              "</div>"
            ],
            "text/plain": [
              "            1. open  2. high  3. low  4. close    5. volume\n",
              "date                                                       \n",
              "2021-05-14    25.80    26.38   25.55     26.28  195808600.0\n",
              "2021-05-13    24.76    25.10   24.43     24.99   76723900.0\n",
              "2021-05-12    24.95    25.53   24.69     24.78   89346200.0\n",
              "2021-05-11    24.44    25.17   24.32     25.15   73355200.0\n",
              "2021-05-10    24.80    24.98   24.58     24.70   73594200.0\n",
              "...             ...      ...     ...       ...          ...\n",
              "2005-01-07    93.19    94.30   92.51     93.41    3287780.0\n",
              "2005-01-06    93.22    93.50   91.90     93.00    3562220.0\n",
              "2005-01-05    93.30    94.18   91.80     92.72    3891044.0\n",
              "2005-01-04    94.99    95.60   93.00     93.08    4741740.0\n",
              "2005-01-03    97.25    97.90   94.19     94.20    3781800.0\n",
              "\n",
              "[4043 rows x 5 columns]"
            ]
          },
          "metadata": {
            "tags": []
          },
          "execution_count": 31
        }
      ]
    },
    {
      "cell_type": "code",
      "metadata": {
        "id": "KDagA-X9KIyk",
        "colab": {
          "base_uri": "https://localhost:8080/"
        },
        "outputId": "45a3ccc5-b5ee-4123-d998-571b5cefcdf5"
      },
      "source": [
        "meta_dados_b"
      ],
      "execution_count": 28,
      "outputs": [
        {
          "output_type": "execute_result",
          "data": {
            "text/plain": [
              "{'1. Information': 'Daily Prices (open, high, low, close) and Volumes',\n",
              " '2. Symbol': 'B3SA3.SAO',\n",
              " '3. Last Refreshed': '2021-05-14',\n",
              " '4. Output Size': 'Full size',\n",
              " '5. Time Zone': 'US/Eastern'}"
            ]
          },
          "metadata": {
            "tags": []
          },
          "execution_count": 28
        }
      ]
    },
    {
      "cell_type": "code",
      "metadata": {
        "colab": {
          "base_uri": "https://localhost:8080/"
        },
        "id": "afS5Tr-n1zdE",
        "outputId": "c80359a0-eea0-4d50-bd21-8267353b283b"
      },
      "source": [
        "meta_dados_p"
      ],
      "execution_count": 29,
      "outputs": [
        {
          "output_type": "execute_result",
          "data": {
            "text/plain": [
              "{'1. Information': 'Daily Prices (open, high, low, close) and Volumes',\n",
              " '2. Symbol': 'PETR4.SAO',\n",
              " '3. Last Refreshed': '2021-05-14',\n",
              " '4. Output Size': 'Full size',\n",
              " '5. Time Zone': 'US/Eastern'}"
            ]
          },
          "metadata": {
            "tags": []
          },
          "execution_count": 29
        }
      ]
    },
    {
      "cell_type": "code",
      "metadata": {
        "id": "0nBX9-U1KMr8",
        "colab": {
          "base_uri": "https://localhost:8080/",
          "height": 340
        },
        "outputId": "ca8f540c-90f5-468e-81bf-3d30cca87b6a"
      },
      "source": [
        "dadosb['4. close'].plot()"
      ],
      "execution_count": 34,
      "outputs": [
        {
          "output_type": "execute_result",
          "data": {
            "text/plain": [
              "<matplotlib.axes._subplots.AxesSubplot at 0x7f75e1b97310>"
            ]
          },
          "metadata": {
            "tags": []
          },
          "execution_count": 34
        },
        {
          "output_type": "display_data",
          "data": {
            "image/png": "[encoded data removed]",
            "text/plain": [
              "<Figure size 1152x576 with 1 Axes>"
            ]
          },
          "metadata": {
            "tags": []
          }
        }
      ]
    },
    {
      "cell_type": "code",
      "metadata": {
        "id": "7GZlX0SoKR4e",
        "colab": {
          "base_uri": "https://localhost:8080/",
          "height": 339
        },
        "outputId": "c7da7ae2-69ef-4d48-d0fc-bba0fd43d6db"
      },
      "source": [
        "dadosp['4. close'].plot()"
      ],
      "execution_count": 33,
      "outputs": [
        {
          "output_type": "execute_result",
          "data": {
            "text/plain": [
              "<matplotlib.axes._subplots.AxesSubplot at 0x7f75e1bb2fd0>"
            ]
          },
          "metadata": {
            "tags": []
          },
          "execution_count": 33
        },
        {
          "output_type": "display_data",
          "data": {
            "image/png": "[encoded data removed]",
            "text/plain": [
              "<Figure size 1152x576 with 1 Axes>"
            ]
          },
          "metadata": {
            "tags": []
          }
        }
      ]
    }
  ]
}